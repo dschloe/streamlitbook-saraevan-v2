{
 "cells": [
  {
   "cell_type": "code",
   "execution_count": null,
   "id": "204f87fd-e14f-416b-af04-e7d4d3ab4ce7",
   "metadata": {},
   "outputs": [],
   "source": [
    "import pandas as pd \n",
    "import matplotlib.pyplot as plt \n",
    "import seaborn as sns\n",
    "\n",
    "sales = pd.read_csv(\"data/raw_sales.csv\", parse_dates=['datesold'])\n",
    "sales['year'] = sales['datesold'].dt.year\n",
    "sales['month'] = sales['datesold'].dt.month\n",
    "\n",
    "sales.head(1)"
   ]
  },
  {
   "cell_type": "code",
   "execution_count": null,
   "id": "cfa243fe-6936-4d30-9de7-69bfe6899152",
   "metadata": {},
   "outputs": [],
   "source": [
    "# 2007 ~ 2010추출\n",
    "df = sales.loc[sales['year'].isin([2007, 2008, 2009, 2010]), :]\n",
    "\n",
    "fig, ax = plt.subplots(figsize=(10, 6))\n",
    "sns.boxplot(data = df, x = 'year', y = 'price', hue = 'propertyType', ax = ax)\n",
    "plt.show()"
   ]
  },
  {
   "cell_type": "code",
   "execution_count": null,
   "id": "28177e28-2db9-4890-8aa7-616d0a197e36",
   "metadata": {},
   "outputs": [],
   "source": [
    "# Sample DataFrame\n",
    "data = {'values': [10, 12, 12, 13, 12, 11, 14, 13, 15, 102, 12, 14, 14, 17, 18, 19, 20]}\n",
    "temp_df = pd.DataFrame(data)"
   ]
  },
  {
   "cell_type": "code",
   "execution_count": null,
   "id": "6852c284-c7f6-4aef-8b01-8c33aa88ff1d",
   "metadata": {},
   "outputs": [],
   "source": [
    "# 1단계 : Q1, Q3 and IQR\n",
    "Q1 = temp_df['values'].quantile(0.25)\n",
    "Q3 = temp_df['values'].quantile(0.75)\n",
    "IQR = Q3 - Q1\n",
    "\n",
    "# 2단계 : 이상치 임계값 설정\n",
    "lower_bound = Q1 - 1.5 * IQR\n",
    "upper_bound = Q3 + 1.5 * IQR\n",
    "\n",
    "# 3단계 : 이상치 확인\n",
    "outliers = temp_df.loc[(temp_df['values'] < lower_bound) | (temp_df['values'] > upper_bound), :]\n",
    "\n",
    "# 결과 확인\n",
    "outliers\n",
    "\n",
    "# 4단계 : 이상치 제거\n",
    "df_clean = temp_df.loc[(temp_df['values'] >= lower_bound) & (temp_df['values'] <= upper_bound), :]\n",
    "df_clean"
   ]
  },
  {
   "cell_type": "code",
   "execution_count": null,
   "id": "8ce3f12b-66dd-44ec-89fc-3185bc1631cb",
   "metadata": {},
   "outputs": [],
   "source": [
    "import pandas as pd\n",
    "\n",
    "def remove_outliers_iqr(df, column):\n",
    "\n",
    "    Q1 = df[column].quantile(0.25)\n",
    "    Q3 = df[column].quantile(0.75)\n",
    "    IQR = Q3 - Q1\n",
    "\n",
    "    lower_bound = Q1 - 1.5 * IQR\n",
    "    upper_bound = Q3 + 1.5 * IQR\n",
    "\n",
    "    outliers = df.loc[(df[column] < lower_bound) | (df[column] > upper_bound), :]\n",
    "    df_clean = df.loc[(df[column] >= lower_bound) & (df[column] <= upper_bound), :].reset_index(drop=True)\n",
    "\n",
    "    return df_clean, outliers"
   ]
  },
  {
   "cell_type": "code",
   "execution_count": null,
   "id": "443356b5-4d14-4116-8769-a8113530e955",
   "metadata": {},
   "outputs": [],
   "source": [
    "df = sales.loc[sales['year'].isin([2007, 2008, 2009, 2010]), :]\n",
    "df_clean, outliers = remove_outliers_iqr(df, 'price')\n",
    "print(outliers)"
   ]
  },
  {
   "cell_type": "code",
   "execution_count": null,
   "id": "ca4d9c6f-005f-4ab3-9c40-5e253ba2428d",
   "metadata": {},
   "outputs": [],
   "source": [
    "# 2007 ~ 2010추출\n",
    "from matplotlib.ticker import ScalarFormatter\n",
    "formatter = ScalarFormatter()\n",
    "formatter.set_scientific(False)\n",
    "\n",
    "fig, ax = plt.subplots(nrows=2, figsize=(10, 12))\n",
    "sns.boxplot(data = df, x = 'year', y = 'price', hue = 'propertyType', ax = ax[0])\n",
    "ax[0].set_title(\"with outliers\")\n",
    "ax[0].yaxis.set_major_formatter(formatter)\n",
    "\n",
    "sns.boxplot(data = df_clean, x = 'year', y = 'price', hue = 'propertyType', ax = ax[1])\n",
    "ax[1].set_title(\"without outliers\")\n",
    "\n",
    "plt.tight_layout()\n",
    "plt.show()"
   ]
  }
 ],
 "metadata": {
  "kernelspec": {
   "display_name": "Python 3 (ipykernel)",
   "language": "python",
   "name": "python3"
  },
  "language_info": {
   "codemirror_mode": {
    "name": "ipython",
    "version": 3
   },
   "file_extension": ".py",
   "mimetype": "text/x-python",
   "name": "python",
   "nbconvert_exporter": "python",
   "pygments_lexer": "ipython3",
   "version": "3.10.9"
  }
 },
 "nbformat": 4,
 "nbformat_minor": 5
}
