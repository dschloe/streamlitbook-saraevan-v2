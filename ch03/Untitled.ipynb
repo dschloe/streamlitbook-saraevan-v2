{
 "cells": [
  {
   "cell_type": "markdown",
   "id": "9ebff3a0-ba12-484d-8e10-4062d6f7ba1b",
   "metadata": {},
   "source": [
    "## 테스트"
   ]
  },
  {
   "cell_type": "code",
   "execution_count": 1,
   "id": "9982ffea-94e2-4cea-a605-598ded26365f",
   "metadata": {},
   "outputs": [
    {
     "name": "stdout",
     "output_type": "stream",
     "text": [
      "Best parameters found:  {'classifier__min_samples_split': 2, 'classifier__min_samples_leaf': 2, 'classifier__max_depth': 5}\n",
      "Best parameters found:  {'classifier__min_samples_split': 2, 'classifier__min_samples_leaf': 2, 'classifier__max_depth': 5}\n",
      "Accuracy:  0.6938775510204082\n",
      "Precision:  0.6923076923076923\n",
      "Recall:  0.9\n",
      "F1 Score:  0.7826086956521738\n"
     ]
    }
   ],
   "source": [
    "# Identifying numerical and categorical columns\n",
    "numerical_cols = train.select_dtypes(include=['int64', 'float64']).columns\n",
    "categorical_cols = train.select_dtypes(include=['object']).columns\n",
    "\n",
    "# Preprocessing for numerical data\n",
    "numerical_transformer = Pipeline(steps=[\n",
    "    ('imputer', SimpleImputer(strategy='median')),\n",
    "    ('scaler', StandardScaler()) \n",
    "])\n",
    "\n",
    "# Preprocessing for categorical data\n",
    "categorical_transformer = Pipeline(steps=[\n",
    "    ('imputer', SimpleImputer(strategy='most_frequent')),\n",
    "    ('onehot', OneHotEncoder(handle_unknown='ignore'))\n",
    "])\n",
    "\n",
    "# Bundle preprocessing for numerical and categorical data\n",
    "preprocessor = ColumnTransformer(\n",
    "    transformers=[\n",
    "        ('num', numerical_transformer, numerical_cols),\n",
    "        ('cat', categorical_transformer, categorical_cols)\n",
    "    ])\n",
    "\n",
    "# Define the model\n",
    "model = DecisionTreeRegressor()\n",
    "\n",
    "# Create a pipeline\n",
    "pipeline = Pipeline(steps=[('preprocessor', preprocessor),\n",
    "                           ('regressor', model)])\n",
    "\n",
    "# Splitting data into training and validation sets\n",
    "X_train, X_val, y_train, y_val = train_test_split(train, y, test_size=0.2, random_state=0)\n",
    "\n",
    "# Define the parameter grid for RandomizedSearchCV\n",
    "param_dist = {\n",
    "    'regressor__max_depth': np.concatenate((np.arange(3, 11), [None])),  # Range from 3 to 10, and None\n",
    "    'regressor__min_samples_split': np.arange(2, 11),  # Range from 2 to 10\n",
    "    'regressor__min_samples_leaf': np.arange(1, 5)  # Range from 1 to 4\n",
    "}\n",
    "\n",
    "# RandomizedSearchCV\n",
    "random_search = RandomizedSearchCV(pipeline, param_distributions=param_dist, n_iter=10, cv=5, random_state=0)\n",
    "random_search.fit(X_train, y_train)\n",
    "\n",
    "# Best parameters\n",
    "print(\"Best parameters:\", random_search.best_params_)"
   ]
  },
  {
   "cell_type": "code",
   "execution_count": null,
   "id": "74ae5aeb-a336-4784-b013-8b16b6d797e8",
   "metadata": {},
   "outputs": [],
   "source": [
    "from sklearn.metrics import mean_squared_error\n",
    "import numpy as np\n",
    "\n",
    "y_val_pred = np.round(random_search.predict(X_val), 0)\n",
    "\n",
    "rmse = np.sqrt(mean_squared_error(y_val, y_val_pred))\n",
    "print(f\"RMSE on Validation Set: {rmse}\")"
   ]
  },
  {
   "cell_type": "code",
   "execution_count": null,
   "id": "58b42228-5172-49a0-8d70-e67ca3f1f075",
   "metadata": {},
   "outputs": [],
   "source": [
    "# Preprocess and predict on the test set\n",
    "test_pred = np.round(random_search.predict(test), 0).astype('int64')\n",
    "submission_df = pd.DataFrame({'Id': test['Id'], 'SalePrice': np.round(test_pred, 0)})\n",
    "submission_df.to_csv('output/submission.csv', index=False)"
   ]
  },
  {
   "cell_type": "code",
   "execution_count": null,
   "id": "6b943e52-c2cf-43d0-bff7-56a40b089d84",
   "metadata": {},
   "outputs": [],
   "source": []
  }
 ],
 "metadata": {
  "kernelspec": {
   "display_name": "Python 3 (ipykernel)",
   "language": "python",
   "name": "python3"
  },
  "language_info": {
   "codemirror_mode": {
    "name": "ipython",
    "version": 3
   },
   "file_extension": ".py",
   "mimetype": "text/x-python",
   "name": "python",
   "nbconvert_exporter": "python",
   "pygments_lexer": "ipython3",
   "version": "3.10.9"
  }
 },
 "nbformat": 4,
 "nbformat_minor": 5
}
